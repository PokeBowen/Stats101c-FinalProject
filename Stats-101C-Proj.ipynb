{
 "cells": [
  {
   "cell_type": "code",
   "execution_count": 1,
   "metadata": {},
   "outputs": [],
   "source": [
    "import pandas as pd\n",
    "import numpy as np\n"
   ]
  },
  {
   "cell_type": "code",
   "execution_count": 2,
   "metadata": {},
   "outputs": [],
   "source": [
    "df = pd.read_excel(\"/Users/jacob/Downloads/Dataset.xlsx\")"
   ]
  },
  {
   "cell_type": "code",
   "execution_count": null,
   "metadata": {},
   "outputs": [],
   "source": [
    "df['Home'] = df['Match Up'].apply(lambda x: 0 if '@' in x else (1 if 'vs.' in x else None))\n",
    "df['Game Date'] = pd.to_datetime(df['Game Date'], format='%m/%d/%Y')\n",
    "df['W/L'] = df['W/L'].apply(lambda x: 1 if x == 'W' else 0)"
   ]
  },
  {
   "cell_type": "code",
   "execution_count": 4,
   "metadata": {},
   "outputs": [
    {
     "data": {
      "text/plain": [
       "'def PTS_Var_Diff(df):\\n    df[\"PTS Var Diff\"] = np.nan  \\n\\n    for i in range(len(df)): \\n            row = df.iloc[i,:]\\n            my_pts_var = row[\"PTS Var\"]\\n            opponent = get_opponent_row(df, row)\\n            opp_pts_var = opponent[\"PTS Var\"]\\n            diff = my_pts_var - opp_pts_var\\n            df.loc[i,\"PTS Var Diff\"] = diff.iloc[0]\\n\\n\\nPTS_Var_Diff(df)'"
      ]
     },
     "execution_count": 4,
     "metadata": {},
     "output_type": "execute_result"
    }
   ],
   "source": [
    "def get_opponent_row(df, current_row):\n",
    "    # Extract game details\n",
    "    match_up = current_row['Match Up']\n",
    "    game_date = current_row['Game Date']\n",
    "    current_team = current_row['Team']\n",
    "\n",
    "    # Identify the opposing team\n",
    "    team_A, team_B = match_up[:3], match_up[-3:]\n",
    "    opponent_team = team_B if current_team == team_A else team_A\n",
    "\n",
    "    # Find the row corresponding to the opponent\n",
    "    opponent_row = df[\n",
    "        (df['Game Date'] == game_date) & (df['Team'] == opponent_team)\n",
    "    ]\n",
    "\n",
    "    return opponent_row\n",
    "\n",
    "def specific_win_rate(df):\n",
    "    for i in range(len(df)):\n",
    "        row = df.iloc[i,:]\n",
    "        team_A = row[\"Match Up\"][:3]\n",
    "        team_B = row[\"Match Up\"][-3:]\n",
    "        other_games = df[df['Match Up'].str.contains(team_A) & df['Match Up'].str.contains(team_B) & (df[\"Team\"] == row[\"Team\"])]\n",
    "        date = row[\"Game Date\"]\n",
    "        prior_games = other_games[other_games[\"Game Date\"] < date]\n",
    "        if(len(prior_games) == 0):\n",
    "            prior_rate = 50\n",
    "        else: \n",
    "            prior_wins = (prior_games[\"W/L\"]).sum()\n",
    "            prior_rate = (prior_wins/len(prior_games)) * 100\n",
    "        df.loc[i,\"Specific Win Percent\"] = prior_rate\n",
    "\n",
    "specific_win_rate(df)\n",
    "\n",
    "def general_win_percent(df):\n",
    "    for i in range(len(df)):\n",
    "        row = df.iloc[i,:]\n",
    "        team_A = row[\"Match Up\"][:3]\n",
    "        team_B = row[\"Match Up\"][-3:]\n",
    "        team_games = df[df[\"Team\"] == row[\"Team\"]]\n",
    "        date = row[\"Game Date\"]\n",
    "        prior_games = team_games[team_games[\"Game Date\"] < date]\n",
    "        if(len(prior_games) == 0):\n",
    "            prior_rate = 50\n",
    "        else:\n",
    "            prior_wins = (prior_games[\"W/L\"]).sum()\n",
    "            prior_rate = (prior_wins/len(prior_games)) * 100\n",
    "        df.loc[i,\"General Win Percent\"] = prior_rate\n",
    "\n",
    "general_win_percent(df)\n",
    "\n",
    "def PTS_Var(df):\n",
    "    for i in range(len(df)):\n",
    "        row = df.iloc[i,:]\n",
    "        team = row[\"Team\"]\n",
    "        team_games = df[df[\"Team\"] == row[\"Team\"]]\n",
    "        date = row[\"Game Date\"]\n",
    "        prior_games = team_games[team_games[\"Game Date\"] < date]\n",
    "        if(len(prior_games) == 0):\n",
    "            PTS_Var = 0\n",
    "        else:\n",
    "            PTS_Var = prior_games[\"PTS\"].var()\n",
    "        df.loc[i,\"PTS Var\"] = PTS_Var\n",
    "\n",
    "PTS_Var(df)\n",
    "\n",
    "'''def PTS_Var_Diff(df):\n",
    "    df[\"PTS Var Diff\"] = np.nan  \n",
    "\n",
    "    for i in range(len(df)): \n",
    "            row = df.iloc[i,:]\n",
    "            my_pts_var = row[\"PTS Var\"]\n",
    "            opponent = get_opponent_row(df, row)\n",
    "            opp_pts_var = opponent[\"PTS Var\"]\n",
    "            diff = my_pts_var - opp_pts_var\n",
    "            df.loc[i,\"PTS Var Diff\"] = diff.iloc[0]\n",
    "\n",
    "\n",
    "PTS_Var_Diff(df)'''"
   ]
  },
  {
   "cell_type": "code",
   "execution_count": 5,
   "metadata": {},
   "outputs": [],
   "source": [
    "def last_5_win_percent(df):\n",
    "    for i in range(len(df)):\n",
    "        row = df.iloc[i, :]\n",
    "        team_A = row[\"Match Up\"][:3]\n",
    "        team_B = row[\"Match Up\"][-3:]\n",
    "        team_games = df[df[\"Team\"] == row[\"Team\"]]\n",
    "        date = row[\"Game Date\"]\n",
    "        prior_games = team_games[team_games[\"Game Date\"] < date]\n",
    "        \n",
    "        if len(prior_games) == 0:\n",
    "            # Default to 50% if no prior games exist\n",
    "            prior_rate = 50\n",
    "        elif len(prior_games) < 5:\n",
    "            # Calculate win percentage for all prior games\n",
    "            prior_wins = (prior_games[\"W/L\"]).sum()\n",
    "            prior_rate = (prior_wins / len(prior_games)) * 100\n",
    "        else:\n",
    "            # Sort and calculate win percentage for the last 5 prior games\n",
    "            sorted_df = prior_games.sort_values(by='Game Date')\n",
    "            last5 = sorted_df.tail(5)\n",
    "            prior_wins = (last5[\"W/L\"]).sum()\n",
    "            prior_rate = (prior_wins / len(last5)) * 100\n",
    "        \n",
    "        # Assign the calculated value\n",
    "        df.at[i, \"Last 5 Win Percent\"] = prior_rate\n",
    "\n",
    "last_5_win_percent(df)\n",
    "\n",
    "def LFWPD(df):\n",
    "     for i in range(len(df)):\n",
    "        row = df.iloc[i,:]\n",
    "        my_lfwp = row[\"Last 5 Win Percent\"]\n",
    "        opponent = get_opponent_row(df, row)\n",
    "        opp_lfwp = opponent[\"Last 5 Win Percent\"]\n",
    "        diff = my_lfwp - opp_lfwp\n",
    "        df.loc[i,\"LFWP Diff\"] = diff.iloc[0]\n",
    "\n",
    "LFWPD(df)\n",
    "\n",
    "def calculate_avg_pts(df):\n",
    "    for i in range(len(df)):\n",
    "        row = df.iloc[i, :]\n",
    "        team_games = df[df[\"Team\"] == row[\"Team\"]]\n",
    "        date = row[\"Game Date\"]\n",
    "\n",
    "        # Get prior games for the current team\n",
    "        prior_games = team_games[team_games[\"Game Date\"] < date]\n",
    "        if len(prior_games) == 0:\n",
    "            avg_pts = 0  # Default if no prior games\n",
    "        else:\n",
    "            avg_pts = prior_games[\"PTS\"].mean()  # Calculate average points\n",
    "\n",
    "        # Add the calculated average to a new column\n",
    "        df.loc[i, \"Avg PTS\"] = avg_pts\n",
    "\n",
    "calculate_avg_pts(df)\n",
    "\n",
    "def calculate_avg_plus_minus(df):\n",
    "    df[\"Avg +/-\"] = None  # Initialize the new column\n",
    "\n",
    "    for i in range(len(df)):\n",
    "        row = df.iloc[i]\n",
    "        current_team = row[\"Team\"]\n",
    "        game_date = row[\"Game Date\"]\n",
    "\n",
    "        # Filter for prior games of the same team\n",
    "        prior_games = df[(df[\"Team\"] == current_team) & (df[\"Game Date\"] < game_date)]\n",
    "\n",
    "        if len(prior_games) == 0:\n",
    "            avg_plus_minus = 0  # Default if no prior games\n",
    "        else:\n",
    "            avg_plus_minus = prior_games[\"+/-\"].mean()\n",
    "\n",
    "        # Assign the calculated average\n",
    "        df.loc[i, \"Avg +/-\"] = avg_plus_minus\n",
    "\n",
    "calculate_avg_plus_minus(df)\n",
    "\n",
    "def calculate_avg_points_conceded(df):\n",
    "    df[\"Avg Points Conceded\"] = 0  # Initialize the new column with 0\n",
    "\n",
    "    for i in range(len(df)):\n",
    "        row = df.iloc[i]\n",
    "        current_team = row[\"Team\"]\n",
    "        game_date = row[\"Game Date\"]\n",
    "\n",
    "        # Find prior games where the current team played\n",
    "        prior_games = df[(df[\"Team\"] != current_team) & (df[\"Match Up\"].str.contains(current_team)) & (df[\"Game Date\"] < game_date)]\n",
    "\n",
    "        if len(prior_games) == 0:\n",
    "            avg_points_conceded = 0  # Default if no prior games\n",
    "        else:\n",
    "            # Use the PTS column from the opponent in those games\n",
    "            avg_points_conceded = prior_games[\"PTS\"].mean()\n",
    "\n",
    "        # Assign the result\n",
    "        df.loc[i, \"Avg Points Conceded\"] = avg_points_conceded\n",
    "\n",
    "calculate_avg_points_conceded(df)\n",
    "\n",
    "def weighted_win_rate(df, alpha = .6):\n",
    "    for i in range(len(df)):\n",
    "        row = df.iloc[i,:]\n",
    "        team = row[\"Team\"]\n",
    "        team_games = df[df[\"Team\"] == row[\"Team\"]]\n",
    "        date = row[\"Game Date\"]\n",
    "        prior_games = team_games[team_games[\"Game Date\"] < date]\n",
    "        if len(prior_games) == 0:\n",
    "            weighted_win_rate = 50\n",
    "        else:\n",
    "            weights = []\n",
    "            for j in range(len(prior_games)):   \n",
    "                mult = len(prior_games) - j\n",
    "                weights.append(alpha ** mult)\n",
    "            weights = np.array(weights)\n",
    "            weights = weights/sum(weights)\n",
    "            weighted_win_rate = sum(weights * prior_games[\"W/L\"])\n",
    "        df.loc[i,\"Weighted General Win Percent\"] = weighted_win_rate\n",
    "\n",
    "weighted_win_rate(df, .3)\n"
   ]
  },
  {
   "cell_type": "code",
   "execution_count": 6,
   "metadata": {},
   "outputs": [
    {
     "data": {
      "text/plain": [
       "'def calculate_win_rate_difference(df):\\n    df[\"Win Rate Difference\"] = None  # Initialize the new column\\n\\n    for i in range(len(df)):\\n        row = df.iloc[i]\\n        team_A = row[\"Match Up\"][:3]\\n        team_B = row[\"Match Up\"][-3:]\\n        current_team = row[\"Team\"]\\n        opponent_team = team_B if team_A == current_team else team_A\\n\\n        # Find the opponent\\'s General Win Percent\\n        opponent_row = df[\\n            (df[\"Team\"] == opponent_team) &\\n            (df[\"Game Date\"] == row[\"Game Date\"])\\n        ]\\n\\n        if not opponent_row.empty:\\n            opponent_rate = opponent_row[\"General Win Percent\"].values[0]\\n        else:\\n            opponent_rate = 50  # Default if no opponent info\\n\\n        # Calculate the difference\\n        current_team_rate = row[\"General Win Percent\"]\\n        df.loc[i, \"Win Rate Difference\"] = current_team_rate - opponent_rate\\n\\ncalculate_win_rate_difference(df)'"
      ]
     },
     "execution_count": 6,
     "metadata": {},
     "output_type": "execute_result"
    }
   ],
   "source": [
    "'''def calculate_win_rate_difference(df):\n",
    "    df[\"Win Rate Difference\"] = None  # Initialize the new column\n",
    "\n",
    "    for i in range(len(df)):\n",
    "        row = df.iloc[i]\n",
    "        team_A = row[\"Match Up\"][:3]\n",
    "        team_B = row[\"Match Up\"][-3:]\n",
    "        current_team = row[\"Team\"]\n",
    "        opponent_team = team_B if team_A == current_team else team_A\n",
    "\n",
    "        # Find the opponent's General Win Percent\n",
    "        opponent_row = df[\n",
    "            (df[\"Team\"] == opponent_team) &\n",
    "            (df[\"Game Date\"] == row[\"Game Date\"])\n",
    "        ]\n",
    "\n",
    "        if not opponent_row.empty:\n",
    "            opponent_rate = opponent_row[\"General Win Percent\"].values[0]\n",
    "        else:\n",
    "            opponent_rate = 50  # Default if no opponent info\n",
    "\n",
    "        # Calculate the difference\n",
    "        current_team_rate = row[\"General Win Percent\"]\n",
    "        df.loc[i, \"Win Rate Difference\"] = current_team_rate - opponent_rate\n",
    "\n",
    "calculate_win_rate_difference(df)'''\n"
   ]
  },
  {
   "cell_type": "code",
   "execution_count": null,
   "metadata": {},
   "outputs": [],
   "source": []
  },
  {
   "cell_type": "code",
   "execution_count": 7,
   "metadata": {},
   "outputs": [
    {
     "data": {
      "text/plain": [
       "'def calculate_pts_diff(df):\\n    for i in range(len(df)):\\n        row = df.iloc[i]\\n        team_A = row[\"Match Up\"][:3]\\n        team_B = row[\"Match Up\"][-3:]\\n        current_team = row[\"Team\"]\\n        opponent_team = team_B if team_A == current_team else team_A\\n\\n        # Get the opponent\\'s Avg PTS\\n        opponent_row = df[\\n            (df[\"Team\"] == opponent_team) &\\n            (df[\"Game Date\"] == row[\"Game Date\"])\\n        ]\\n\\n        if not opponent_row.empty:\\n            opponent_avg_pts = opponent_row[\"Avg PTS\"].values[0]\\n        else:\\n            opponent_avg_pts = 0  # Default if no data for opponent\\n\\n        # Calculate the PTS difference\\n        pts_diff = row[\"Avg PTS\"] - opponent_avg_pts\\n        df.loc[i, \"Avg PTS Difference\"] = pts_diff\\n\\n# Apply the function\\ncalculate_pts_diff(df)\\n'"
      ]
     },
     "execution_count": 7,
     "metadata": {},
     "output_type": "execute_result"
    }
   ],
   "source": [
    "'''def calculate_pts_diff(df):\n",
    "    for i in range(len(df)):\n",
    "        row = df.iloc[i]\n",
    "        team_A = row[\"Match Up\"][:3]\n",
    "        team_B = row[\"Match Up\"][-3:]\n",
    "        current_team = row[\"Team\"]\n",
    "        opponent_team = team_B if team_A == current_team else team_A\n",
    "\n",
    "        # Get the opponent's Avg PTS\n",
    "        opponent_row = df[\n",
    "            (df[\"Team\"] == opponent_team) &\n",
    "            (df[\"Game Date\"] == row[\"Game Date\"])\n",
    "        ]\n",
    "\n",
    "        if not opponent_row.empty:\n",
    "            opponent_avg_pts = opponent_row[\"Avg PTS\"].values[0]\n",
    "        else:\n",
    "            opponent_avg_pts = 0  # Default if no data for opponent\n",
    "\n",
    "        # Calculate the PTS difference\n",
    "        pts_diff = row[\"Avg PTS\"] - opponent_avg_pts\n",
    "        df.loc[i, \"Avg PTS Difference\"] = pts_diff\n",
    "\n",
    "# Apply the function\n",
    "calculate_pts_diff(df)\n",
    "'''"
   ]
  },
  {
   "cell_type": "code",
   "execution_count": 8,
   "metadata": {},
   "outputs": [
    {
     "data": {
      "text/plain": [
       "'def calculate_plus_minus_difference(df):\\n    df[\"+/- Difference\"] = None  # Initialize the new column\\n\\n    for i in range(len(df)):\\n        row = df.iloc[i]\\n        team_A = row[\"Match Up\"][:3]\\n        team_B = row[\"Match Up\"][-3:]\\n        current_team = row[\"Team\"]\\n        opponent_team = team_B if team_A == current_team else team_A\\n\\n        # Find the Avg +/- of the opponent\\n        opponent_avg_plus_minus = df.loc[\\n            (df[\"Team\"] == opponent_team) & (df[\"Game Date\"] == row[\"Game Date\"]),\\n            \"Avg +/-\"\\n        ]\\n        \\n        if not opponent_avg_plus_minus.empty:\\n            opponent_avg_plus_minus = opponent_avg_plus_minus.values[0]\\n        else:\\n            opponent_avg_plus_minus = 0  # Default if no opponent info\\n\\n        # Calculate the difference\\n        df.loc[i, \"+/- Difference\"] = row[\"Avg +/-\"] - opponent_avg_plus_minus\\n\\ncalculate_plus_minus_difference(df)'"
      ]
     },
     "execution_count": 8,
     "metadata": {},
     "output_type": "execute_result"
    }
   ],
   "source": [
    "'''def calculate_plus_minus_difference(df):\n",
    "    df[\"+/- Difference\"] = None  # Initialize the new column\n",
    "\n",
    "    for i in range(len(df)):\n",
    "        row = df.iloc[i]\n",
    "        team_A = row[\"Match Up\"][:3]\n",
    "        team_B = row[\"Match Up\"][-3:]\n",
    "        current_team = row[\"Team\"]\n",
    "        opponent_team = team_B if team_A == current_team else team_A\n",
    "\n",
    "        # Find the Avg +/- of the opponent\n",
    "        opponent_avg_plus_minus = df.loc[\n",
    "            (df[\"Team\"] == opponent_team) & (df[\"Game Date\"] == row[\"Game Date\"]),\n",
    "            \"Avg +/-\"\n",
    "        ]\n",
    "        \n",
    "        if not opponent_avg_plus_minus.empty:\n",
    "            opponent_avg_plus_minus = opponent_avg_plus_minus.values[0]\n",
    "        else:\n",
    "            opponent_avg_plus_minus = 0  # Default if no opponent info\n",
    "\n",
    "        # Calculate the difference\n",
    "        df.loc[i, \"+/- Difference\"] = row[\"Avg +/-\"] - opponent_avg_plus_minus\n",
    "\n",
    "calculate_plus_minus_difference(df)'''\n"
   ]
  },
  {
   "cell_type": "code",
   "execution_count": 9,
   "metadata": {},
   "outputs": [
    {
     "data": {
      "text/plain": [
       "Index(['Team', 'Match Up', 'Game Date', 'W/L', 'MIN', 'PTS', 'FGM', 'FGA',\n",
       "       'FG%', '3PM', '3PA', '3P%', 'FTM', 'FTA', 'FT%', 'OREB', 'DREB', 'REB',\n",
       "       'AST', 'STL', 'BLK', 'TOV', 'PF', '+/-', 'Home', 'Specific Win Percent',\n",
       "       'General Win Percent', 'PTS Var', 'Last 5 Win Percent', 'LFWP Diff',\n",
       "       'Avg PTS', 'Avg +/-', 'Avg Points Conceded',\n",
       "       'Weighted General Win Percent'],\n",
       "      dtype='object')"
      ]
     },
     "execution_count": 9,
     "metadata": {},
     "output_type": "execute_result"
    }
   ],
   "source": [
    "df.columns"
   ]
  },
  {
   "cell_type": "code",
   "execution_count": 10,
   "metadata": {},
   "outputs": [
    {
     "data": {
      "text/plain": [
       "'def PTS_Var_Diff(df):\\n    df[\"PTS Var Diff\"] = np.nan  \\n\\n    for i in range(len(df)): \\n            row = df.iloc[i,:]\\n            my_pts_var = row[\"PTS Var\"]\\n            opponent = get_opponent_row(df, row)\\n            opp_pts_var = opponent[\"PTS Var\"]\\n            diff = my_pts_var - opp_pts_var\\n            df.loc[i,\"PTS Var Diff\"] = diff.iloc[0]\\n\\n\\nPTS_Var_Diff(df)'"
      ]
     },
     "execution_count": 10,
     "metadata": {},
     "output_type": "execute_result"
    }
   ],
   "source": [
    "def opp_feature_calc(df, feature):\n",
    "    for i in range(len(df)):\n",
    "        row = df.iloc[i,:]\n",
    "        my_val = row[feature]\n",
    "        opponent = get_opponent_row(df, row)\n",
    "        opp_val = opponent[feature].iloc[0]\n",
    "        opp_name = \"Opp \" + feature\n",
    "        df.loc[i,opp_name] = opp_val\n",
    "        diff_name = \"Diff \" + feature\n",
    "        diff = my_val - opp_val\n",
    "        df.loc[i, diff_name] = diff\n",
    "\n",
    "\n",
    "analysis_features = ['General Win Percent', 'Avg PTS', 'Avg +/-', 'Avg Points Conceded', 'Weighted General Win Percent']\n",
    "\n",
    "for feature in analysis_features:\n",
    "    opp_feature_calc(df, feature)\n",
    "\n",
    "\n",
    "\n",
    "\"\"\"def PTS_Var_Diff(df):\n",
    "    df[\"PTS Var Diff\"] = np.nan  \n",
    "\n",
    "    for i in range(len(df)): \n",
    "            row = df.iloc[i,:]\n",
    "            my_pts_var = row[\"PTS Var\"]\n",
    "            opponent = get_opponent_row(df, row)\n",
    "            opp_pts_var = opponent[\"PTS Var\"]\n",
    "            diff = my_pts_var - opp_pts_var\n",
    "            df.loc[i,\"PTS Var Diff\"] = diff.iloc[0]\n",
    "\n",
    "\n",
    "PTS_Var_Diff(df)\"\"\""
   ]
  },
  {
   "cell_type": "code",
   "execution_count": 12,
   "metadata": {},
   "outputs": [
    {
     "data": {
      "text/plain": [
       "Index(['Team', 'Match Up', 'Game Date', 'W/L', 'MIN', 'PTS', 'FGM', 'FGA',\n",
       "       'FG%', '3PM', '3PA', '3P%', 'FTM', 'FTA', 'FT%', 'OREB', 'DREB', 'REB',\n",
       "       'AST', 'STL', 'BLK', 'TOV', 'PF', '+/-', 'Home', 'Specific Win Percent',\n",
       "       'General Win Percent', 'PTS Var', 'Last 5 Win Percent', 'LFWP Diff',\n",
       "       'Avg PTS', 'Avg +/-', 'Avg Points Conceded',\n",
       "       'Weighted General Win Percent', 'Opp General Win Percent',\n",
       "       'Diff General Win Percent', 'Opp Avg PTS', 'Diff Avg PTS',\n",
       "       'Opp Avg +/-', 'Diff Avg +/-', 'Opp Avg Points Conceded',\n",
       "       'Diff Avg Points Conceded', 'Opp Weighted General Win Percent',\n",
       "       'Diff Weighted General Win Percent'],\n",
       "      dtype='object')"
      ]
     },
     "execution_count": 12,
     "metadata": {},
     "output_type": "execute_result"
    }
   ],
   "source": [
    "df.columns"
   ]
  },
  {
   "cell_type": "code",
   "execution_count": 73,
   "metadata": {},
   "outputs": [],
   "source": [
    "df.fillna(0, inplace=True)\n",
    "df.replace('-', 0, inplace=True)\n",
    "df\n",
    "\n",
    "df = df.sort_values(by=\"Game Date\")\n",
    "\n",
    "y = df[\"W/L\"]\n",
    "X = df.loc[:, [\"Home\", 'Diff Weighted General Win Percent', 'Avg PTS', \"Opp Avg PTS\", \"Avg Points Conceded\", \"Diff Avg Points Conceded\", \"Diff General Win Percent\"]]\n",
    "\n",
    "X = X.iloc[30:]\n",
    "y = y.iloc[30:]\n",
    "\n",
    "X_train = X.iloc[:1944]\n",
    "X_test = X.iloc[1944:]\n",
    "\n",
    "y_train = y.iloc[:1944]\n",
    "y_test = y.iloc[1944:]\n",
    "\n",
    "\n",
    "\n"
   ]
  },
  {
   "cell_type": "code",
   "execution_count": 59,
   "metadata": {},
   "outputs": [],
   "source": [
    "from sklearn.linear_model import Lasso\n",
    "from sklearn.model_selection import train_test_split"
   ]
  },
  {
   "cell_type": "code",
   "execution_count": 60,
   "metadata": {},
   "outputs": [
    {
     "data": {
      "text/plain": [
       "['Team', 'Match Up']"
      ]
     },
     "execution_count": 60,
     "metadata": {},
     "output_type": "execute_result"
    }
   ],
   "source": [
    "def has_non_numeric(df):\n",
    "    non_numeric_cols = []\n",
    "    for col in df.columns:\n",
    "        try:\n",
    "            pd.to_numeric(df[col])\n",
    "        except (ValueError, TypeError):\n",
    "            non_numeric_cols.append(col)\n",
    "    return non_numeric_cols\n",
    "\n",
    "has_non_numeric(df)"
   ]
  },
  {
   "cell_type": "code",
   "execution_count": 61,
   "metadata": {},
   "outputs": [
    {
     "data": {
      "text/plain": [
       "1215"
      ]
     },
     "execution_count": 61,
     "metadata": {},
     "output_type": "execute_result"
    }
   ],
   "source": [
    "y.sum()"
   ]
  },
  {
   "cell_type": "code",
   "execution_count": 62,
   "metadata": {},
   "outputs": [
    {
     "data": {
      "text/plain": [
       "Index(['Team', 'Match Up', 'Game Date', 'W/L', 'MIN', 'PTS', 'FGM', 'FGA',\n",
       "       'FG%', '3PM', '3PA', '3P%', 'FTM', 'FTA', 'FT%', 'OREB', 'DREB', 'REB',\n",
       "       'AST', 'STL', 'BLK', 'TOV', 'PF', '+/-', 'Home', 'Specific Win Percent',\n",
       "       'General Win Percent', 'PTS Var', 'Last 5 Win Percent', 'LFWP Diff',\n",
       "       'Avg PTS', 'Avg +/-', 'Avg Points Conceded',\n",
       "       'Weighted General Win Percent', 'Opp General Win Percent',\n",
       "       'Diff General Win Percent', 'Opp Avg PTS', 'Diff Avg PTS',\n",
       "       'Opp Avg +/-', 'Diff Avg +/-', 'Opp Avg Points Conceded',\n",
       "       'Diff Avg Points Conceded', 'Opp Weighted General Win Percent',\n",
       "       'Diff Weighted General Win Percent'],\n",
       "      dtype='object')"
      ]
     },
     "execution_count": 62,
     "metadata": {},
     "output_type": "execute_result"
    }
   ],
   "source": [
    "df.columns"
   ]
  },
  {
   "cell_type": "code",
   "execution_count": 74,
   "metadata": {},
   "outputs": [
    {
     "name": "stdout",
     "output_type": "stream",
     "text": [
      "Accuracy: 67.49%\n"
     ]
    }
   ],
   "source": [
    "from sklearn.linear_model import LogisticRegression\n",
    "from sklearn.metrics import accuracy_score\n",
    "\n",
    "from sklearn.preprocessing import StandardScaler\n",
    "\n",
    "\n",
    "# Initialize the logistic regression model\n",
    "logistic_model = LogisticRegression()\n",
    "\n",
    "# Fit the model to the training data\n",
    "logistic_model.fit(X_train, y_train)\n",
    "\n",
    "# Make predictions on the test data\n",
    "y_pred = logistic_model.predict(X_test)\n",
    "\n",
    "# Calculate the accuracy\n",
    "accuracy = accuracy_score(y_test, y_pred) * 100\n",
    "print(f\"Accuracy: {accuracy:.2f}%\")"
   ]
  },
  {
   "cell_type": "code",
   "execution_count": 64,
   "metadata": {},
   "outputs": [
    {
     "name": "stdout",
     "output_type": "stream",
     "text": [
      "                             Feature  Correlation with Target\n",
      "1  Diff Weighted General Win Percent                 0.157956\n",
      "2                            Avg PTS                 0.104708\n",
      "0                               Home                 0.086420\n",
      "3                        Opp Avg PTS                -0.120870\n",
      "4                Avg Points Conceded                -0.154563\n",
      "5           Diff Avg Points Conceded                -0.222922\n"
     ]
    }
   ],
   "source": [
    "import pandas as pd\n",
    "import numpy as np\n",
    "\n",
    "# Correlation of features with the target variable\n",
    "correlations = pd.DataFrame({\n",
    "    'Feature': X.columns,\n",
    "    'Correlation with Target': [np.corrcoef(X[col], y)[0, 1] for col in X.columns]\n",
    "}).sort_values(by='Correlation with Target', ascending=False)\n",
    "\n",
    "print(correlations)"
   ]
  },
  {
   "cell_type": "code",
   "execution_count": 65,
   "metadata": {},
   "outputs": [
    {
     "data": {
      "text/plain": [
       "Index(['Team', 'Match Up', 'Game Date', 'W/L', 'MIN', 'PTS', 'FGM', 'FGA',\n",
       "       'FG%', '3PM', '3PA', '3P%', 'FTM', 'FTA', 'FT%', 'OREB', 'DREB', 'REB',\n",
       "       'AST', 'STL', 'BLK', 'TOV', 'PF', '+/-', 'Home', 'Specific Win Percent',\n",
       "       'General Win Percent', 'PTS Var', 'Last 5 Win Percent', 'LFWP Diff',\n",
       "       'Avg PTS', 'Avg +/-', 'Avg Points Conceded',\n",
       "       'Weighted General Win Percent', 'Opp General Win Percent',\n",
       "       'Diff General Win Percent', 'Opp Avg PTS', 'Diff Avg PTS',\n",
       "       'Opp Avg +/-', 'Diff Avg +/-', 'Opp Avg Points Conceded',\n",
       "       'Diff Avg Points Conceded', 'Opp Weighted General Win Percent',\n",
       "       'Diff Weighted General Win Percent'],\n",
       "      dtype='object')"
      ]
     },
     "execution_count": 65,
     "metadata": {},
     "output_type": "execute_result"
    }
   ],
   "source": [
    "df.columns\n"
   ]
  },
  {
   "cell_type": "code",
   "execution_count": 75,
   "metadata": {},
   "outputs": [
    {
     "name": "stdout",
     "output_type": "stream",
     "text": [
      "Random Forest Accuracy: 65.23%\n"
     ]
    }
   ],
   "source": [
    "from sklearn.ensemble import RandomForestClassifier\n",
    "from sklearn.metrics import accuracy_score\n",
    "\n",
    "# Initialize the Random Forest model\n",
    "rf_model = RandomForestClassifier(n_estimators=100, random_state=1)\n",
    "\n",
    "# Fit the model using the training data\n",
    "rf_model.fit(X_train, y_train)\n",
    "\n",
    "# Predict on the test set\n",
    "y_pred = rf_model.predict(X_test)\n",
    "\n",
    "# Calculate accuracy\n",
    "accuracy = accuracy_score(y_test, y_pred) * 100\n",
    "print(f\"Random Forest Accuracy: {accuracy:.2f}%\")\n",
    "\n"
   ]
  },
  {
   "cell_type": "code",
   "execution_count": 67,
   "metadata": {},
   "outputs": [
    {
     "data": {
      "text/html": [
       "<div>\n",
       "<style scoped>\n",
       "    .dataframe tbody tr th:only-of-type {\n",
       "        vertical-align: middle;\n",
       "    }\n",
       "\n",
       "    .dataframe tbody tr th {\n",
       "        vertical-align: top;\n",
       "    }\n",
       "\n",
       "    .dataframe thead th {\n",
       "        text-align: right;\n",
       "    }\n",
       "</style>\n",
       "<table border=\"1\" class=\"dataframe\">\n",
       "  <thead>\n",
       "    <tr style=\"text-align: right;\">\n",
       "      <th></th>\n",
       "      <th>Home</th>\n",
       "      <th>Diff Weighted General Win Percent</th>\n",
       "      <th>Avg PTS</th>\n",
       "      <th>Opp Avg PTS</th>\n",
       "      <th>Avg Points Conceded</th>\n",
       "      <th>Diff Avg Points Conceded</th>\n",
       "    </tr>\n",
       "  </thead>\n",
       "  <tbody>\n",
       "    <tr>\n",
       "      <th>30</th>\n",
       "      <td>1</td>\n",
       "      <td>0.000000</td>\n",
       "      <td>0.000000</td>\n",
       "      <td>0.000000</td>\n",
       "      <td>0.000000</td>\n",
       "      <td>0.000000</td>\n",
       "    </tr>\n",
       "    <tr>\n",
       "      <th>31</th>\n",
       "      <td>0</td>\n",
       "      <td>1.000000</td>\n",
       "      <td>108.000000</td>\n",
       "      <td>107.000000</td>\n",
       "      <td>104.000000</td>\n",
       "      <td>-15.000000</td>\n",
       "    </tr>\n",
       "    <tr>\n",
       "      <th>42</th>\n",
       "      <td>0</td>\n",
       "      <td>-1.000000</td>\n",
       "      <td>113.000000</td>\n",
       "      <td>126.000000</td>\n",
       "      <td>114.000000</td>\n",
       "      <td>-5.000000</td>\n",
       "    </tr>\n",
       "    <tr>\n",
       "      <th>32</th>\n",
       "      <td>0</td>\n",
       "      <td>0.000000</td>\n",
       "      <td>86.000000</td>\n",
       "      <td>119.000000</td>\n",
       "      <td>116.000000</td>\n",
       "      <td>-10.000000</td>\n",
       "    </tr>\n",
       "    <tr>\n",
       "      <th>34</th>\n",
       "      <td>1</td>\n",
       "      <td>-1.000000</td>\n",
       "      <td>114.000000</td>\n",
       "      <td>123.000000</td>\n",
       "      <td>130.000000</td>\n",
       "      <td>19.000000</td>\n",
       "    </tr>\n",
       "    <tr>\n",
       "      <th>...</th>\n",
       "      <td>...</td>\n",
       "      <td>...</td>\n",
       "      <td>...</td>\n",
       "      <td>...</td>\n",
       "      <td>...</td>\n",
       "      <td>...</td>\n",
       "    </tr>\n",
       "    <tr>\n",
       "      <th>2456</th>\n",
       "      <td>1</td>\n",
       "      <td>0.077394</td>\n",
       "      <td>112.703704</td>\n",
       "      <td>112.185185</td>\n",
       "      <td>108.074074</td>\n",
       "      <td>-5.555556</td>\n",
       "    </tr>\n",
       "    <tr>\n",
       "      <th>2457</th>\n",
       "      <td>1</td>\n",
       "      <td>-0.673581</td>\n",
       "      <td>115.753086</td>\n",
       "      <td>114.308642</td>\n",
       "      <td>112.296296</td>\n",
       "      <td>-1.012346</td>\n",
       "    </tr>\n",
       "    <tr>\n",
       "      <th>2453</th>\n",
       "      <td>0</td>\n",
       "      <td>-0.744814</td>\n",
       "      <td>112.469136</td>\n",
       "      <td>110.049383</td>\n",
       "      <td>118.802469</td>\n",
       "      <td>10.345679</td>\n",
       "    </tr>\n",
       "    <tr>\n",
       "      <th>2443</th>\n",
       "      <td>1</td>\n",
       "      <td>-0.286245</td>\n",
       "      <td>105.753086</td>\n",
       "      <td>114.716049</td>\n",
       "      <td>112.654321</td>\n",
       "      <td>3.074074</td>\n",
       "    </tr>\n",
       "    <tr>\n",
       "      <th>2459</th>\n",
       "      <td>0</td>\n",
       "      <td>-0.068730</td>\n",
       "      <td>110.061728</td>\n",
       "      <td>111.962963</td>\n",
       "      <td>118.938272</td>\n",
       "      <td>0.061728</td>\n",
       "    </tr>\n",
       "  </tbody>\n",
       "</table>\n",
       "<p>2430 rows × 6 columns</p>\n",
       "</div>"
      ],
      "text/plain": [
       "      Home  Diff Weighted General Win Percent     Avg PTS  Opp Avg PTS  \\\n",
       "30       1                           0.000000    0.000000     0.000000   \n",
       "31       0                           1.000000  108.000000   107.000000   \n",
       "42       0                          -1.000000  113.000000   126.000000   \n",
       "32       0                           0.000000   86.000000   119.000000   \n",
       "34       1                          -1.000000  114.000000   123.000000   \n",
       "...    ...                                ...         ...          ...   \n",
       "2456     1                           0.077394  112.703704   112.185185   \n",
       "2457     1                          -0.673581  115.753086   114.308642   \n",
       "2453     0                          -0.744814  112.469136   110.049383   \n",
       "2443     1                          -0.286245  105.753086   114.716049   \n",
       "2459     0                          -0.068730  110.061728   111.962963   \n",
       "\n",
       "      Avg Points Conceded  Diff Avg Points Conceded  \n",
       "30               0.000000                  0.000000  \n",
       "31             104.000000                -15.000000  \n",
       "42             114.000000                 -5.000000  \n",
       "32             116.000000                -10.000000  \n",
       "34             130.000000                 19.000000  \n",
       "...                   ...                       ...  \n",
       "2456           108.074074                 -5.555556  \n",
       "2457           112.296296                 -1.012346  \n",
       "2453           118.802469                 10.345679  \n",
       "2443           112.654321                  3.074074  \n",
       "2459           118.938272                  0.061728  \n",
       "\n",
       "[2430 rows x 6 columns]"
      ]
     },
     "execution_count": 67,
     "metadata": {},
     "output_type": "execute_result"
    }
   ],
   "source": [
    "X"
   ]
  },
  {
   "cell_type": "code",
   "execution_count": null,
   "metadata": {},
   "outputs": [],
   "source": []
  },
  {
   "cell_type": "code",
   "execution_count": 68,
   "metadata": {},
   "outputs": [
    {
     "name": "stdout",
     "output_type": "stream",
     "text": [
      "XGBoost Accuracy: 61.11%\n"
     ]
    }
   ],
   "source": [
    "from xgboost import XGBClassifier\n",
    "\n",
    "# Initialize XGBoost model\n",
    "xgb_model = XGBClassifier(n_estimators=1000, max_depth=1000, random_state=42)\n",
    "\n",
    "# Fit the model\n",
    "xgb_model.fit(X_train, y_train)\n",
    "\n",
    "# Predict and evaluate\n",
    "y_pred_xgb = xgb_model.predict(X_test)\n",
    "xgb_accuracy = accuracy_score(y_test, y_pred_xgb) * 100\n",
    "print(f\"XGBoost Accuracy: {xgb_accuracy:.2f}%\")\n"
   ]
  },
  {
   "cell_type": "code",
   "execution_count": 84,
   "metadata": {},
   "outputs": [
    {
     "name": "stdout",
     "output_type": "stream",
     "text": [
      "Ridge Accuracy: 67.28%\n"
     ]
    }
   ],
   "source": [
    "from sklearn.linear_model import Ridge\n",
    "from sklearn.metrics import accuracy_score\n",
    "\n",
    "# Train Ridge Regression\n",
    "ridge_model = Ridge(alpha=1.0)  # Alpha controls the strength of regularization\n",
    "ridge_model.fit(X_train, y_train)\n",
    "\n",
    "# Predict and evaluate\n",
    "y_pred_ridge = ridge_model.predict(X_test)\n",
    "accuracy_ridge = accuracy_score(y_test, (y_pred_ridge > 0.5).astype(int)) * 100\n",
    "print(f\"Ridge Accuracy: {accuracy_ridge:.2f}%\")\n"
   ]
  },
  {
   "cell_type": "code",
   "execution_count": 83,
   "metadata": {},
   "outputs": [
    {
     "name": "stdout",
     "output_type": "stream",
     "text": [
      "Lasso Accuracy: 69.14%\n"
     ]
    },
    {
     "data": {
      "text/plain": [
       "array([ 0.        , -0.        ,  0.00474962, -0.00343681, -0.        ,\n",
       "       -0.00746734,  0.00385825])"
      ]
     },
     "execution_count": 83,
     "metadata": {},
     "output_type": "execute_result"
    }
   ],
   "source": [
    "from sklearn.linear_model import Lasso\n",
    "from sklearn.metrics import accuracy_score\n",
    "\n",
    "# Train Lasso Regression\n",
    "lasso_model = Lasso(alpha=.05)  # Alpha controls regularization strength\n",
    "lasso_model.fit(X_train, y_train)\n",
    "\n",
    "# Predict and evaluate\n",
    "y_pred_lasso = lasso_model.predict(X_test)\n",
    "accuracy_lasso = accuracy_score(y_test, (y_pred_lasso > 0.5).astype(int)) * 100\n",
    "print(f\"Lasso Accuracy: {accuracy_lasso:.2f}%\")\n",
    "lasso_model.coef_\n"
   ]
  },
  {
   "cell_type": "code",
   "execution_count": 71,
   "metadata": {},
   "outputs": [
    {
     "name": "stdout",
     "output_type": "stream",
     "text": [
      "Useful features identified by Lasso:\n",
      "Avg PTS                     0.012252\n",
      "Opp Avg PTS                -0.013593\n",
      "Diff Avg Points Conceded   -0.016376\n",
      "dtype: float64\n"
     ]
    }
   ],
   "source": [
    "from sklearn.linear_model import Lasso\n",
    "import pandas as pd\n",
    "\n",
    "# Initialize and train the Lasso model\n",
    "lasso_model = Lasso(alpha=0.1, random_state=42)  # Adjust alpha for stronger/looser regularization\n",
    "lasso_model.fit(X_train, y_train)\n",
    "\n",
    "# Extract feature importance (coefficients)\n",
    "feature_importance = pd.Series(lasso_model.coef_, index=X.columns)\n",
    "\n",
    "# Filter out features with zero coefficients (not useful)\n",
    "useful_features = feature_importance[feature_importance != 0].sort_values(ascending=False)\n",
    "\n",
    "print(\"Useful features identified by Lasso:\")\n",
    "print(useful_features)\n"
   ]
  },
  {
   "cell_type": "code",
   "execution_count": null,
   "metadata": {},
   "outputs": [],
   "source": [
    "for i in range(100)"
   ]
  }
 ],
 "metadata": {
  "kernelspec": {
   "display_name": "base",
   "language": "python",
   "name": "python3"
  },
  "language_info": {
   "codemirror_mode": {
    "name": "ipython",
    "version": 3
   },
   "file_extension": ".py",
   "mimetype": "text/x-python",
   "name": "python",
   "nbconvert_exporter": "python",
   "pygments_lexer": "ipython3",
   "version": "3.9.12"
  }
 },
 "nbformat": 4,
 "nbformat_minor": 2
}
